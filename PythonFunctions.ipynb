{
  "nbformat": 4,
  "nbformat_minor": 0,
  "metadata": {
    "colab": {
      "provenance": [],
      "include_colab_link": true
    },
    "kernelspec": {
      "name": "python3",
      "display_name": "Python 3"
    },
    "language_info": {
      "name": "python"
    }
  },
  "cells": [
    {
      "cell_type": "markdown",
      "metadata": {
        "id": "view-in-github",
        "colab_type": "text"
      },
      "source": [
        "<a href=\"https://colab.research.google.com/github/AlexanderUbaldoGutierrez21/MoneyConverter/blob/main/PythonFunctions.ipynb\" target=\"_parent\"><img src=\"https://colab.research.google.com/assets/colab-badge.svg\" alt=\"Open In Colab\"/></a>"
      ]
    },
    {
      "cell_type": "markdown",
      "source": [
        "**Funciones**\n",
        "\n",
        "*¿Qué son?*\n",
        "Son un mecanismo que te ofrece el lenguaje para agrupar conjuntos de instrucciones de manera que se puedan ejecutar cuando el programador considere oportuno.\n",
        "\n",
        "Las funciones van identificadas por un nombre.\n",
        "Se debe usar este nombre para invocar (ejecutar) el código de la función.\n",
        "Las funciones calculan un resultado (output) en base a unos parámetros de entrada (input).\n",
        "En cada invocación de la función, los parámetros de entrada pueden variar."
      ],
      "metadata": {
        "id": "3kKjj8E49nwZ"
      }
    },
    {
      "cell_type": "markdown",
      "source": [
        "**Ejemplo**"
      ],
      "metadata": {
        "id": "R-Txw7Ty9vs5"
      }
    },
    {
      "cell_type": "code",
      "source": [
        "def sumar(x,y):\n",
        "    return x + y\n",
        "\n",
        "print(sumar(130,453))"
      ],
      "metadata": {
        "colab": {
          "base_uri": "https://localhost:8080/"
        },
        "id": "nc66h4dc9zHS",
        "outputId": "9b959299-c6cc-4d77-b81d-2bd2a86d3e5e"
      },
      "execution_count": null,
      "outputs": [
        {
          "output_type": "stream",
          "name": "stdout",
          "text": [
            "583\n"
          ]
        }
      ]
    },
    {
      "cell_type": "markdown",
      "source": [
        "**¿Qué ventajas nos proporcionan?**\n",
        "\n",
        "Eliminación de duplicación de código.\n",
        "\n",
        "Incremento de la reutilización de código.\n",
        "\n",
        "Manejo de complejidad: permiten descomponer grandes sistemas en piezas más pequeñas y, por tanto, más manejables y comprensibles."
      ],
      "metadata": {
        "id": "ukZG9J3d93XQ"
      }
    },
    {
      "cell_type": "markdown",
      "source": [
        "**Programación de funciones en Python**\n",
        "\n",
        "Las funciones se definen por medio de la palabra clave def.\n",
        "\n",
        "Formato general:\n",
        "\n",
        "def name(arg1, arg2, ..., argN):\n",
        "\n",
        "    statements\n",
        "    \n",
        "Muy comúnmente:\n",
        "\n",
        "def name(arg1, arg2, ..., argN):\n",
        "    ...\n",
        "    return value"
      ],
      "metadata": {
        "id": "LKANuFUm9-ag"
      }
    },
    {
      "cell_type": "code",
      "source": [
        "# Primero, definición.\n",
        "def crear_diccionario(keys, values):\n",
        "    return dict(zip(keys, values))\n",
        "\n",
        "# Después, invocación.\n",
        "nombres = ['Alfred', 'James', 'Peter', 'Harvey']\n",
        "edades = [87, 43, 19, 16]\n",
        "usuarios = crear_diccionario(nombres, edades)\n",
        "print(usuarios)\n",
        "\n",
        "alumnos = ['Alexander', 'Andres', 'Laura']\n",
        "notas = [10, 10, 10]\n",
        "finales = crear_diccionario(alumnos, notas)\n",
        "print(finales)"
      ],
      "metadata": {
        "id": "D9xddPBM_DFH",
        "colab": {
          "base_uri": "https://localhost:8080/"
        },
        "outputId": "f38924e9-529b-4b5e-d0c1-91b6697dd5cb"
      },
      "execution_count": null,
      "outputs": [
        {
          "output_type": "stream",
          "name": "stdout",
          "text": [
            "{'Alfred': 87, 'James': 43, 'Peter': 19, 'Harvey': 16}\n",
            "{'Alexander': 10, 'Andres': 10, 'Laura': 10}\n"
          ]
        }
      ]
    },
    {
      "cell_type": "markdown",
      "source": [
        "Las funciones pueden estar anidadas en sentencias condicionales o bucles."
      ],
      "metadata": {
        "id": "LRwY3w4B_Ex_"
      }
    },
    {
      "cell_type": "code",
      "source": [
        "a = 0\n",
        "#a = -1\n",
        "\n",
        "if a > 0:\n",
        "    def operacion(x, y):\n",
        "        return x + y\n",
        "else:\n",
        "    def operacion(x, y):\n",
        "        return x * y\n",
        "\n",
        "print(operacion(3, 4))"
      ],
      "metadata": {
        "id": "m9-Quk5H_KlU",
        "colab": {
          "base_uri": "https://localhost:8080/"
        },
        "outputId": "787a15c4-388a-4183-b35f-41e375a3dcd6"
      },
      "execution_count": null,
      "outputs": [
        {
          "output_type": "stream",
          "name": "stdout",
          "text": [
            "12\n"
          ]
        }
      ]
    },
    {
      "cell_type": "markdown",
      "source": [
        "La sentencia return puede aparecer en cualquier parte de la función"
      ],
      "metadata": {
        "id": "mSx5y4GO_Ltj"
      }
    },
    {
      "cell_type": "code",
      "source": [
        "def devolver_algo(x):\n",
        "    if x > 0:\n",
        "        return 'Hola'\n",
        "    return 'Mundo'\n",
        "\n",
        "print(devolver_algo(0))"
      ],
      "metadata": {
        "colab": {
          "base_uri": "https://localhost:8080/"
        },
        "id": "6_47Wyrg_aP3",
        "outputId": "58a4870b-2588-4950-dac4-b03ba5aa8dae"
      },
      "execution_count": null,
      "outputs": [
        {
          "output_type": "stream",
          "name": "stdout",
          "text": [
            "Mundo\n"
          ]
        }
      ]
    },
    {
      "cell_type": "markdown",
      "source": [
        "Los argumentos pueden tener valores por defecto, siempre al final."
      ],
      "metadata": {
        "id": "xV8bV2g8_mBl"
      }
    },
    {
      "cell_type": "code",
      "source": [
        "def f(a = None, b = None, c = None):\n",
        "    if a is not None:\n",
        "        print('Se ha proporcionado a')\n",
        "    if b is not None:\n",
        "        print('Se ha proporcionado b')\n",
        "    if c is not None:\n",
        "        print('Se ha proporcionado c')\n",
        "\n",
        "f(1, 'hola')"
      ],
      "metadata": {
        "id": "x-EkhBz8_nEx",
        "colab": {
          "base_uri": "https://localhost:8080/"
        },
        "outputId": "0d6420bf-be1f-4aa7-f017-51b33d1d71c3"
      },
      "execution_count": null,
      "outputs": [
        {
          "output_type": "stream",
          "name": "stdout",
          "text": [
            "Se ha proporcionado a\n",
            "Se ha proporcionado b\n"
          ]
        }
      ]
    },
    {
      "cell_type": "markdown",
      "source": [
        "Los parámetros se pasan por posición, pero el orden se puede alterar si se especifica el nombre del parámetro en la llamada."
      ],
      "metadata": {
        "id": "JfAxPzWU_tsG"
      }
    },
    {
      "cell_type": "code",
      "source": [
        "def power(base, exponente):\n",
        "    return pow(base, exponente)\n",
        "\n",
        "print(power(2,4))\n",
        "print(power(exponente = 4, base = 2))"
      ],
      "metadata": {
        "colab": {
          "base_uri": "https://localhost:8080/"
        },
        "id": "DqcJ3k5E_wOA",
        "outputId": "008d15ce-9753-4710-cc15-a95798464606"
      },
      "execution_count": null,
      "outputs": [
        {
          "output_type": "stream",
          "name": "stdout",
          "text": [
            "16\n",
            "16\n"
          ]
        }
      ]
    },
    {
      "cell_type": "markdown",
      "source": [
        "*Al ejecutarse una sentencia def, se crea un objeto de tipo función y éste se asocia con el nombre especificado para la función.\n",
        "\n",
        "*Un objeto de tipo función es como cualquier otro tipo de objeto.\n",
        "\n",
        "*Variables pueden referenciar objetos de tipo función.\n",
        "\n"
      ],
      "metadata": {
        "id": "EZDdTyw9_05Z"
      }
    },
    {
      "cell_type": "code",
      "source": [
        "def sumar(x, y):\n",
        "    return x + y\n",
        "\n",
        "f = sumar\n",
        "\n",
        "print(type(f))\n",
        "print(f(5,6))"
      ],
      "metadata": {
        "colab": {
          "base_uri": "https://localhost:8080/"
        },
        "id": "LjVyJX0u_6Rb",
        "outputId": "dbcb15f2-b243-4845-91d1-2db29fb680f4"
      },
      "execution_count": null,
      "outputs": [
        {
          "output_type": "stream",
          "name": "stdout",
          "text": [
            "<class 'function'>\n",
            "11\n"
          ]
        }
      ]
    },
    {
      "cell_type": "markdown",
      "source": [
        "* Se pueden crear placeholders con la palabra clave *pass*.\n",
        "* *pass* representa una sentencia que no hace nada.\n",
        "* Útil cuando la sintaxis del lenguaje requiere alguna sentencia, pero no tienes nada que escribir."
      ],
      "metadata": {
        "id": "uCWly8jDAiWV"
      }
    },
    {
      "cell_type": "code",
      "source": [
        "def mi_funcion():\n",
        "  pass\n",
        "\n",
        "\n",
        "mi_funcion()"
      ],
      "metadata": {
        "id": "LENDbprjAkeW"
      },
      "execution_count": null,
      "outputs": []
    },
    {
      "cell_type": "markdown",
      "source": [
        "## Paso de parámetros"
      ],
      "metadata": {
        "id": "cuiVmd45Aphy"
      }
    },
    {
      "cell_type": "markdown",
      "source": [
        "* Tipos simples (inmutables) por **valor**: int, float, string.\n",
        "    * El efecto es como si se creara una copia dentro de la función, aunque realmente no es esto lo que ocurre.\n",
        "    * Los cambios dentro de la función no afectan fuera."
      ],
      "metadata": {
        "id": "bpg08D34AqkK"
      }
    },
    {
      "cell_type": "code",
      "source": [
        "def cambiar_valor(x):\n",
        "    x = 3\n",
        "    print('Dentro de la función:', x)  # x ahora referencia a un nuevo objeto (el 3), pero esto no afecta a la variable de fuera de la función, que sigue apuntando al 2.\n",
        "    return x\n",
        "\n",
        "a = 2\n",
        "cambiar_valor(a)\n",
        "print('Fuera de la función:', a)"
      ],
      "metadata": {
        "id": "Pm8oLrv8BNmk",
        "colab": {
          "base_uri": "https://localhost:8080/"
        },
        "outputId": "6ccd5219-4e6a-4523-ce91-7a33642f7239"
      },
      "execution_count": null,
      "outputs": [
        {
          "output_type": "stream",
          "name": "stdout",
          "text": [
            "Dentro de la función: 3\n",
            "Fuera de la función: 2\n"
          ]
        }
      ]
    },
    {
      "cell_type": "markdown",
      "source": [
        "Tipos complejos (mutables) por referencia: list, set, dictionary.\n",
        "Dentro de la función se maneja el mismo objeto que se ha pasado desde fuera.\n",
        "Los cambios dentro de la función sí afectan fuera."
      ],
      "metadata": {
        "id": "8FPWct97BXzg"
      }
    },
    {
      "cell_type": "code",
      "source": [
        "def anyadir_2_a(x):\n",
        "    x.append(2)\n",
        "    return x\n",
        "\n",
        "lista = [0, 1]\n",
        "anyadir_2_a(lista)\n",
        "print(lista)"
      ],
      "metadata": {
        "colab": {
          "base_uri": "https://localhost:8080/"
        },
        "id": "C3HhSulFBZTb",
        "outputId": "f93b0e10-f569-4628-9dcc-afeabc17341d"
      },
      "execution_count": null,
      "outputs": [
        {
          "output_type": "stream",
          "name": "stdout",
          "text": [
            "[0, 1, 2]\n"
          ]
        }
      ]
    },
    {
      "cell_type": "markdown",
      "source": [
        "## Funciones Lambda"
      ],
      "metadata": {
        "id": "KSsCKY2DC-7j"
      }
    },
    {
      "cell_type": "markdown",
      "source": [
        "* Es posible definir funciones anónimas (sin nombre).\n",
        "* Lambdas son expresiones; por lo tanto, puede aparecer en lugares donde una sentencia *def* no puede (por ejemplo, dentro de una lista o como parámetro de una función).\n",
        "* Útiles cuando se quiere pasar una función como argumento a otra."
      ],
      "metadata": {
        "id": "m7ji-kPjC_0-"
      }
    },
    {
      "cell_type": "markdown",
      "source": [
        "Formato general:\n",
        "\n",
        "```\n",
        "lambda <lista de argumentos> : <valor a retornar>\n",
        "```\n",
        "\n",
        "* Importante: *\\<valor a retornar\\>* no es un conjunto de instrucciones. Es simplemente una expresión *return* que omite esta palabra.\n",
        "* Las funciones definidas con *def* son más generales:\n",
        "    * Cualquier cosa que implementes en un lambda, lo puedes implementar como una función convencional con *def*, pero no viceversa."
      ],
      "metadata": {
        "id": "MfTK9xI6DEmO"
      }
    },
    {
      "cell_type": "code",
      "source": [
        "# Ejemplo: función suma.\n",
        "\n",
        "def suma(x, y, z):\n",
        "    return x + y + z\n",
        "\n",
        "print(suma(1, 2, 3))\n",
        "\n",
        "# Ejemplo: función suma como expresión lambda.\n",
        "\n",
        "suma2 = lambda x, y, z: x + y + z\n",
        "\n",
        "print(suma2(1, 2, 3))"
      ],
      "metadata": {
        "id": "C8GmAc2TDHFT",
        "colab": {
          "base_uri": "https://localhost:8080/"
        },
        "outputId": "22585be4-db4b-40d0-d562-5cfe693b81c9"
      },
      "execution_count": null,
      "outputs": [
        {
          "output_type": "stream",
          "name": "stdout",
          "text": [
            "6\n",
            "6\n"
          ]
        }
      ]
    },
    {
      "cell_type": "code",
      "source": [
        "# La funcion 'sort' puede recibir una función optional como parámetro.\n",
        "# Esta función 'key' se invoca para cada elemento de la lista antes de realizar las comparaciones.\n",
        "# Ejemplo: ordenar strings por número de carácteres.\n",
        "\n",
        "cities = ['Valencia', 'Lugo', 'Barcelona', 'Madrid']\n",
        "\n",
        "cities.sort()\n",
        "print(cities)\n",
        "\n",
        "cities.sort(key = lambda x : len(x))\n",
        "print(cities)"
      ],
      "metadata": {
        "colab": {
          "base_uri": "https://localhost:8080/"
        },
        "id": "r7mbbWtdDeAd",
        "outputId": "0ea1e567-4605-4123-a7bf-024612f33f9c"
      },
      "execution_count": null,
      "outputs": [
        {
          "output_type": "stream",
          "name": "stdout",
          "text": [
            "['Barcelona', 'Lugo', 'Madrid', 'Valencia']\n",
            "['Lugo', 'Madrid', 'Valencia', 'Barcelona']\n"
          ]
        }
      ]
    },
    {
      "cell_type": "code",
      "source": [],
      "metadata": {
        "id": "1TgRVufiBod1"
      },
      "execution_count": null,
      "outputs": []
    }
  ]
}