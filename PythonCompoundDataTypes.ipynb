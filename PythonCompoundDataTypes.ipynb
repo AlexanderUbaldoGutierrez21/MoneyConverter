{
  "nbformat": 4,
  "nbformat_minor": 0,
  "metadata": {
    "colab": {
      "provenance": [],
      "include_colab_link": true
    },
    "kernelspec": {
      "name": "python3",
      "display_name": "Python 3"
    },
    "language_info": {
      "name": "python"
    }
  },
  "cells": [
    {
      "cell_type": "markdown",
      "metadata": {
        "id": "view-in-github",
        "colab_type": "text"
      },
      "source": [
        "<a href=\"https://colab.research.google.com/github/AlexanderUbaldoGutierrez21/MoneyConverter/blob/main/PythonCompoundDataTypes.ipynb\" target=\"_parent\"><img src=\"https://colab.research.google.com/assets/colab-badge.svg\" alt=\"Open In Colab\"/></a>"
      ]
    },
    {
      "cell_type": "markdown",
      "source": [
        "# Tipos de datos compuestos (colecciones)"
      ],
      "metadata": {
        "id": "Miox5aH4HqVa"
      }
    },
    {
      "cell_type": "markdown",
      "source": [
        "* Listas.\n",
        "* Diccionarios.\n",
        "* Conjuntos (sets).\n",
        "* Tuplas."
      ],
      "metadata": {
        "id": "d8zGcs0KHq-6"
      }
    },
    {
      "cell_type": "markdown",
      "source": [
        "## Listas\n",
        "\n",
        "* Una colección de objetos.\n",
        "* Mutables.\n",
        "* Tipos arbitrarios.\n",
        "* Puede contener duplicados.\n",
        "* No tienen tamaño fijo. Pueden contener tantos elementos como quepan en memoria.\n",
        "* Los elementos van ordenados por posición.\n",
        "* Se acceden usando la sintaxis: **[index]**.\n",
        "* Los índices van de *0* a *n-1*, donde *n* es el número de elementos de la lista.\n",
        "* Son un tipo de *Secuencia*, al igual que los strings; por lo tanto, el orden (es decir, la posición de los objetos de la lista) es importante."
      ],
      "metadata": {
        "id": "Q6JlYTEpHuah"
      }
    },
    {
      "cell_type": "code",
      "source": [
        "#Creacion de listas\n",
        "\n",
        "letras = ['a', 'b', 'c', 'd']\n",
        "palabras = 'Hola mundo'.split()\n",
        "numeros = list(range(5))\n",
        "\n",
        "print(letras)\n",
        "print(palabras)\n",
        "print(numeros)\n",
        "print(type(numeros))"
      ],
      "metadata": {
        "id": "oWzIJ6Y9H6GA"
      },
      "execution_count": null,
      "outputs": []
    },
    {
      "cell_type": "code",
      "source": [
        "# Pueden contener elementos arbitrarios\n",
        "\n",
        "mezcla = [1, 3.4, 'a', None, False]\n",
        "print(mezcla)"
      ],
      "metadata": {
        "id": "d3-mK9yuIBqS"
      },
      "execution_count": null,
      "outputs": []
    },
    {
      "cell_type": "code",
      "source": [
        "# Pueden contener duplicados\n",
        "\n",
        "lista_con_duplicados = [1, 2, 3, 3, 3, 4]\n",
        "print(lista_con_duplicados)"
      ],
      "metadata": {
        "id": "03FpPQ5qICbW"
      },
      "execution_count": null,
      "outputs": []
    },
    {
      "cell_type": "code",
      "source": [
        "#Obtención de la longitud de una lista.\n",
        "\n",
        "letras = ['a', 'b', 'c', 'd']\n",
        "print(len(letras))"
      ],
      "metadata": {
        "id": "E3YtfygkIFFa"
      },
      "execution_count": null,
      "outputs": []
    },
    {
      "cell_type": "code",
      "source": [
        "#Acceso a un elemento de una lista\n",
        "\n",
        "print(letras[2])\n",
        "print(letras[-1])"
      ],
      "metadata": {
        "id": "YKlqRb0UIPc2"
      },
      "execution_count": null,
      "outputs": []
    },
    {
      "cell_type": "code",
      "source": [
        "#Slicing\n",
        "\n",
        "letras = ['a', 'b', 'c', 'd']\n",
        "\n",
        "print(letras[1:3])\n",
        "print(letras[:1])\n",
        "print(letras[:-1])\n",
        "print(letras[2:])\n",
        "print(letras[:])\n",
        "print(letras[2::3])"
      ],
      "metadata": {
        "id": "7uQV4Rf5IX_5",
        "colab": {
          "base_uri": "https://localhost:8080/"
        },
        "outputId": "5bfcd55b-9aed-4963-bb31-d563296abd4e"
      },
      "execution_count": null,
      "outputs": [
        {
          "output_type": "stream",
          "name": "stdout",
          "text": [
            "['b', 'c']\n",
            "['a']\n",
            "['a', 'b', 'c']\n",
            "['c', 'd']\n",
            "['a', 'b', 'c', 'd']\n",
            "['c']\n"
          ]
        }
      ]
    },
    {
      "cell_type": "code",
      "source": [
        "#Anadir elemento\n",
        "\n",
        "letras.append('e')\n",
        "print(letras)"
      ],
      "metadata": {
        "id": "ja8VRQS3Ic4D",
        "colab": {
          "base_uri": "https://localhost:8080/"
        },
        "outputId": "a872088f-7a60-442d-951f-c788a8878c73"
      },
      "execution_count": null,
      "outputs": [
        {
          "output_type": "stream",
          "name": "stdout",
          "text": [
            "['a', 'b', 'c', 'd', 'e']\n"
          ]
        }
      ]
    },
    {
      "cell_type": "code",
      "source": [
        "#Insertar en posicion\n",
        "\n",
        "letras.insert(1,'z')\n",
        "print(letras)"
      ],
      "metadata": {
        "id": "hDqFruvtIkc5",
        "colab": {
          "base_uri": "https://localhost:8080/"
        },
        "outputId": "334a1346-d683-458b-c491-468267bea751"
      },
      "execution_count": null,
      "outputs": [
        {
          "output_type": "stream",
          "name": "stdout",
          "text": [
            "['a', 'z', 'b', 'b', 'c', 'd', 'e']\n"
          ]
        }
      ]
    },
    {
      "cell_type": "code",
      "source": [
        "#Modificacion de listas\n",
        "\n",
        "letras[5] = 'f'\n",
        "print(letras)"
      ],
      "metadata": {
        "id": "33FIsZbwIpPR",
        "colab": {
          "base_uri": "https://localhost:8080/"
        },
        "outputId": "020bd22f-e4bc-4526-c39f-be7081553b4f"
      },
      "execution_count": null,
      "outputs": [
        {
          "output_type": "stream",
          "name": "stdout",
          "text": [
            "['a', 'z', 'b', 'b', 'c', 'f', 'e']\n"
          ]
        }
      ]
    },
    {
      "cell_type": "code",
      "source": [
        "#Eliminar elemento\n",
        "\n",
        "letras.remove(letras[2])\n",
        "print(letras)"
      ],
      "metadata": {
        "id": "q4rT3oFmI3nm",
        "colab": {
          "base_uri": "https://localhost:8080/"
        },
        "outputId": "4b3b9186-3401-4859-87ec-9fc72a9e8c8d"
      },
      "execution_count": null,
      "outputs": [
        {
          "output_type": "stream",
          "name": "stdout",
          "text": [
            "['z', 'c', 'e']\n"
          ]
        }
      ]
    },
    {
      "cell_type": "code",
      "source": [
        "#Ordenar una lista\n",
        "\n",
        "lista = [4,3,8,1]\n",
        "#lista.sort()\n",
        "#print(lista)\n",
        "\n",
        "lista.sort(reverse=True)\n",
        "print(lista)"
      ],
      "metadata": {
        "id": "zr0Px39CJBjY",
        "colab": {
          "base_uri": "https://localhost:8080/"
        },
        "outputId": "732f67cc-7e30-435d-8b36-10ca8473b038"
      },
      "execution_count": null,
      "outputs": [
        {
          "output_type": "stream",
          "name": "stdout",
          "text": [
            "[8, 4, 3, 1]\n"
          ]
        }
      ]
    },
    {
      "cell_type": "code",
      "source": [
        "#Anidamiento de listas\n",
        "\n",
        "letras = ['a', 'b', 'c', 2, 1.8,'python',['hola','playa']]\n",
        "print(letras[2:5])\n",
        "\n"
      ],
      "metadata": {
        "id": "I1rFK30aJICK",
        "colab": {
          "base_uri": "https://localhost:8080/"
        },
        "outputId": "319b891e-173e-4c43-fc7e-63ead71f2206"
      },
      "execution_count": null,
      "outputs": [
        {
          "output_type": "stream",
          "name": "stdout",
          "text": [
            "['c', 2, 1.8]\n"
          ]
        }
      ]
    },
    {
      "cell_type": "markdown",
      "source": [
        "## Diccionarios\n",
        "\n",
        "* Colección de parejas clave-valor.\n",
        "* Son mutables.\n",
        "* Claves:\n",
        "   * Cualquier objeto inmutable.\n",
        "   * Sólo pueden aparecer una vez en el diccionario.\n",
        "* Valores:\n",
        "   * Sin restricciones. Cualquier objeto (enteros, strings, listas, etc.) puede hacer de valor.\n"
      ],
      "metadata": {
        "id": "Oy2ClIRMJN9S"
      }
    },
    {
      "cell_type": "code",
      "source": [
        "# Creación simple, usando una expresión literal.\n",
        "\n",
        "persona = {'DNI' : '11111111D', 'Nombre' : 'Carlos', 'Edad' : 34}\n",
        "perro = {'nombre':'Firulais','edad':7,'raza':'poodle'}\n",
        "print(persona)\n",
        "print(perro)"
      ],
      "metadata": {
        "id": "pznKycxVJVmf",
        "colab": {
          "base_uri": "https://localhost:8080/"
        },
        "outputId": "d80affb0-bca9-49c7-9289-0e087496a655"
      },
      "execution_count": null,
      "outputs": [
        {
          "output_type": "stream",
          "name": "stdout",
          "text": [
            "{'DNI': '11111111D', 'Nombre': 'Carlos', 'Edad': 34}\n",
            "{'nombre': 'Firulais', 'edad': 7, 'raza': 'poodle'}\n"
          ]
        }
      ]
    },
    {
      "cell_type": "code",
      "source": [
        "# Creación uniendo dos colecciones.\n",
        "\n",
        "nombres = ['Pablo', 'Manolo', 'Pepe']\n",
        "edades = [52, 14, 65]\n",
        "\n",
        "datos = dict(zip(nombres,edades))\n",
        "print(datos)"
      ],
      "metadata": {
        "id": "4Sc_x_BKJg8j",
        "colab": {
          "base_uri": "https://localhost:8080/"
        },
        "outputId": "55fc86fd-0a27-4074-abc5-ac6710392007"
      },
      "execution_count": null,
      "outputs": [
        {
          "output_type": "stream",
          "name": "stdout",
          "text": [
            "{'Pablo': 52, 'Manolo': 14, 'Pepe': 65}\n"
          ]
        }
      ]
    },
    {
      "cell_type": "code",
      "source": [
        "# Creación incremental por medio de asignación (como las claves no existen, se crean nuevos items)\n",
        "\n",
        "persona = {}\n",
        "persona['DNI'] = '11111111D'\n",
        "persona['Nombre'] = 'Carlos'\n",
        "persona['Edad'] = 34\n",
        "\n",
        "print(persona)"
      ],
      "metadata": {
        "id": "XUki191zJnan",
        "colab": {
          "base_uri": "https://localhost:8080/"
        },
        "outputId": "bbbd4fe0-be74-4f26-a542-dc0643ded143"
      },
      "execution_count": null,
      "outputs": [
        {
          "output_type": "stream",
          "name": "stdout",
          "text": [
            "{'DNI': '11111111D', 'Nombre': 'Carlos', 'Edad': 34}\n"
          ]
        }
      ]
    },
    {
      "cell_type": "code",
      "source": [
        "#Acceso a traves de claves\n",
        "\n",
        "persona = {'DNI' : '11111111D', 'Nombre' : 'Carlos', 'Edad' : 34}\n",
        "print(persona['DNI'])"
      ],
      "metadata": {
        "id": "OOTLLfMXJrGk",
        "colab": {
          "base_uri": "https://localhost:8080/"
        },
        "outputId": "c763610f-58d1-4fbd-e7e8-2ed7ff8fcefe"
      },
      "execution_count": null,
      "outputs": [
        {
          "output_type": "stream",
          "name": "stdout",
          "text": [
            "11111111D\n"
          ]
        }
      ]
    },
    {
      "cell_type": "code",
      "source": [
        "#Modificacion a traves de claves\n",
        "\n",
        "persona = {'DNI' : '11111111D', 'Nombre' : 'Carlos', 'Edad' : 34}\n",
        "persona['Nombre'] = 'Fernando'\n",
        "persona['Edad'] += 1\n",
        "\n",
        "print(persona)"
      ],
      "metadata": {
        "id": "qiWUVZnHJyLL",
        "colab": {
          "base_uri": "https://localhost:8080/"
        },
        "outputId": "77722db4-9706-471e-f536-c4948b22de19"
      },
      "execution_count": null,
      "outputs": [
        {
          "output_type": "stream",
          "name": "stdout",
          "text": [
            "{'DNI': '11111111D', 'Nombre': 'Fernando', 'Edad': 35}\n"
          ]
        }
      ]
    },
    {
      "cell_type": "code",
      "source": [
        "#Agregar valor\n",
        "\n",
        "persona = {'DNI' : '11111111D', 'Nombre' : 'Carlos', 'Edad' : 34}\n",
        "persona['Ciudad'] = 'Panamá'\n",
        "\n",
        "print(persona)"
      ],
      "metadata": {
        "id": "J3aryIiMJ4m8",
        "colab": {
          "base_uri": "https://localhost:8080/"
        },
        "outputId": "7a369224-0785-4ad1-b89f-d64affe1d892"
      },
      "execution_count": null,
      "outputs": [
        {
          "output_type": "stream",
          "name": "stdout",
          "text": [
            "{'DNI': '11111111D', 'Nombre': 'Carlos', 'Edad': 34, 'Ciudad': 'Panamá'}\n"
          ]
        }
      ]
    },
    {
      "cell_type": "markdown",
      "source": [
        "## Sets (Conjuntos)\n",
        "\n",
        "Al igual que las listas:\n",
        "\n",
        "* Colección de elementos.\n",
        "* Tipos arbitrarios.\n",
        "* Mutables.\n",
        "* No tienen tamaño fijo. Pueden contener tantos elementos como quepan en memoria.\n",
        "\n",
        "A diferencia de las listas:\n",
        "\n",
        "* No puede tener duplicados.\n",
        "* Se definen por medio de llaves.\n",
        "* Los elementos no van ordenados por posición. No hay orden establecido.\n"
      ],
      "metadata": {
        "id": "9z0gqU5vKGqU"
      }
    },
    {
      "cell_type": "code",
      "source": [
        "#Creacion de conjuntos\n",
        "\n",
        "set1 = {0, 1, 1, 2, 3, 4, 4}\n",
        "print(set1)\n",
        "\n",
        "set2 = {'user1', 12, 2}\n",
        "print(set2)\n",
        "\n",
        "set3 = set(range(7))\n",
        "print(set3)\n",
        "\n",
        "set4 = set([0, 1, 2, 3, 4, 0, 1])\n",
        "print(set4)"
      ],
      "metadata": {
        "id": "TVFw4LHWKKdP",
        "colab": {
          "base_uri": "https://localhost:8080/"
        },
        "outputId": "6be533b7-cf6f-4efd-b747-e34b51cb8526"
      },
      "execution_count": null,
      "outputs": [
        {
          "output_type": "stream",
          "name": "stdout",
          "text": [
            "{0, 1, 2, 3, 4}\n",
            "{2, 12, 'user1'}\n",
            "{0, 1, 2, 3, 4, 5, 6}\n",
            "{0, 1, 2, 3, 4}\n"
          ]
        }
      ]
    },
    {
      "cell_type": "code",
      "source": [
        "# Observa la diferencia entre listas y conjuntos\n",
        "\n",
        "s = 'aabbc'\n",
        "print(list(s))\n",
        "print(set(s))"
      ],
      "metadata": {
        "id": "OAJQcsxOKP6r",
        "colab": {
          "base_uri": "https://localhost:8080/"
        },
        "outputId": "5ff123bf-8e08-4af0-f5ce-9316c50ca3a3"
      },
      "execution_count": null,
      "outputs": [
        {
          "output_type": "stream",
          "name": "stdout",
          "text": [
            "['a', 'a', 'b', 'b', 'c']\n",
            "{'b', 'a', 'c'}\n"
          ]
        }
      ]
    },
    {
      "cell_type": "code",
      "source": [
        "#Acceso por indice genera error\n",
        "\n",
        "set1 = {0, 1, 2}\n",
        "print(set1[0])"
      ],
      "metadata": {
        "id": "gpUIdq2EKT1J",
        "colab": {
          "base_uri": "https://localhost:8080/",
          "height": 201
        },
        "outputId": "0771726b-cda2-4e16-f501-14ea6b7a53bf"
      },
      "execution_count": null,
      "outputs": [
        {
          "output_type": "error",
          "ename": "TypeError",
          "evalue": "ignored",
          "traceback": [
            "\u001b[0;31m---------------------------------------------------------------------------\u001b[0m",
            "\u001b[0;31mTypeError\u001b[0m                                 Traceback (most recent call last)",
            "\u001b[0;32m<ipython-input-67-412379215417>\u001b[0m in \u001b[0;36m<cell line: 4>\u001b[0;34m()\u001b[0m\n\u001b[1;32m      2\u001b[0m \u001b[0;34m\u001b[0m\u001b[0m\n\u001b[1;32m      3\u001b[0m \u001b[0mset1\u001b[0m \u001b[0;34m=\u001b[0m \u001b[0;34m{\u001b[0m\u001b[0;36m0\u001b[0m\u001b[0;34m,\u001b[0m \u001b[0;36m1\u001b[0m\u001b[0;34m,\u001b[0m \u001b[0;36m2\u001b[0m\u001b[0;34m}\u001b[0m\u001b[0;34m\u001b[0m\u001b[0;34m\u001b[0m\u001b[0m\n\u001b[0;32m----> 4\u001b[0;31m \u001b[0mprint\u001b[0m\u001b[0;34m(\u001b[0m\u001b[0mset1\u001b[0m\u001b[0;34m[\u001b[0m\u001b[0;36m0\u001b[0m\u001b[0;34m]\u001b[0m\u001b[0;34m)\u001b[0m\u001b[0;34m\u001b[0m\u001b[0;34m\u001b[0m\u001b[0m\n\u001b[0m",
            "\u001b[0;31mTypeError\u001b[0m: 'set' object is not subscriptable"
          ]
        }
      ]
    },
    {
      "cell_type": "markdown",
      "source": [
        "## Tuplas\n",
        "\n",
        "Al igual que las listas:\n",
        "\n",
        "* Colección de elementos.\n",
        "* Tipos arbitrarios.\n",
        "* Puede contener duplicados.\n",
        "* No tienen tamaño fijo. Pueden contener tantos elementos como quepan en memoria.\n",
        "* Los elementos van ordenados por posición.\n",
        "* Acceso a través de la sintaxis: __[index]__\n",
        "* Índices van de *0* a *n-1*, donde *n* es el número de elementos de la tupla.\n",
        "* Son *secuencias* donde el orden de los elementos importa.\n",
        "\n",
        "A diferencia de las listas:\n",
        "\n",
        "* Se definen por medio de paréntesis.\n",
        "* Inmutables."
      ],
      "metadata": {
        "id": "uS_fyyp2KkCv"
      }
    },
    {
      "cell_type": "markdown",
      "source": [
        "#### ¿Por qué tuplas?\n",
        "\n",
        "* Representación de una colección fija de elementos (por ejemplo, una fecha).\n",
        "* Pueden usarse en contextos que requieren inmutabilidad (por ejemplo, como claves de un diccionario)."
      ],
      "metadata": {
        "id": "lC9gUCj1Kud3"
      }
    },
    {
      "cell_type": "code",
      "source": [
        "#Creacion de tuplas\n",
        "tuple1 = ('Foo', 34, 5.0, 34)\n",
        "print(tuple1)\n",
        "print(type(tuple1))\n",
        "\n",
        "tuple2 = 1, 2, 3\n",
        "print(tuple2)\n",
        "\n",
        "tuple3 = tu(range(ple10))\n",
        "print(tuple3)\n",
        "\n",
        "tuple4 = tuple([0, 1, 2, 3, 4])\n",
        "print(tuple4)"
      ],
      "metadata": {
        "id": "62stXlvdKyeC",
        "colab": {
          "base_uri": "https://localhost:8080/"
        },
        "outputId": "bb9ded77-9a8b-4d77-d1de-4eef49a8ae47"
      },
      "execution_count": null,
      "outputs": [
        {
          "output_type": "stream",
          "name": "stdout",
          "text": [
            "('Foo', 34, 5.0, 34)\n",
            "<class 'tuple'>\n",
            "(1, 2, 3)\n",
            "(0, 1, 2, 3, 4, 5, 6, 7, 8, 9)\n",
            "(0, 1, 2, 3, 4)\n"
          ]
        }
      ]
    },
    {
      "cell_type": "code",
      "source": [
        "#Acceso por indice\n",
        "\n",
        "tuple1 = ('Foo', 1, 2, 3)\n",
        "\n",
        "print(tuple1[0]) # Primer elemento\n",
        "print(tuple1[len(tuple1)-1]) # Último elemento\n",
        "\n",
        "print(tuple1[-1]) # Índices negativos comienzan desde el final\n",
        "print(tuple1[-len(tuple1)]) # primer elemento\n",
        "print(tuple1[-4])"
      ],
      "metadata": {
        "id": "9ZWLwKJSK5q2",
        "colab": {
          "base_uri": "https://localhost:8080/"
        },
        "outputId": "9680aa3e-995d-4e53-bf44-064a42e6b676"
      },
      "execution_count": null,
      "outputs": [
        {
          "output_type": "stream",
          "name": "stdout",
          "text": [
            "Foo\n",
            "3\n",
            "3\n",
            "Foo\n",
            "Foo\n"
          ]
        }
      ]
    },
    {
      "cell_type": "code",
      "source": [
        "#Son inmutables\n",
        "\n",
        "tuple1[0] = 'bar'"
      ],
      "metadata": {
        "id": "Cbt5AK-rK_J1",
        "colab": {
          "base_uri": "https://localhost:8080/",
          "height": 201
        },
        "outputId": "ada21a8f-f049-4225-a450-9d856a8c1df5"
      },
      "execution_count": null,
      "outputs": [
        {
          "output_type": "error",
          "ename": "TypeError",
          "evalue": "ignored",
          "traceback": [
            "\u001b[0;31m---------------------------------------------------------------------------\u001b[0m",
            "\u001b[0;31mTypeError\u001b[0m                                 Traceback (most recent call last)",
            "\u001b[0;32m<ipython-input-70-61a45f37262e>\u001b[0m in \u001b[0;36m<cell line: 3>\u001b[0;34m()\u001b[0m\n\u001b[1;32m      1\u001b[0m \u001b[0;31m#Son inmutables\u001b[0m\u001b[0;34m\u001b[0m\u001b[0;34m\u001b[0m\u001b[0m\n\u001b[1;32m      2\u001b[0m \u001b[0;34m\u001b[0m\u001b[0m\n\u001b[0;32m----> 3\u001b[0;31m \u001b[0mtuple1\u001b[0m\u001b[0;34m[\u001b[0m\u001b[0;36m0\u001b[0m\u001b[0;34m]\u001b[0m \u001b[0;34m=\u001b[0m \u001b[0;34m'bar'\u001b[0m\u001b[0;34m\u001b[0m\u001b[0;34m\u001b[0m\u001b[0m\n\u001b[0m",
            "\u001b[0;31mTypeError\u001b[0m: 'tuple' object does not support item assignment"
          ]
        }
      ]
    },
    {
      "cell_type": "markdown",
      "source": [
        "> **En Python todo son objetos**\n",
        "\n",
        "Cada objeto tiene:\n",
        "\n",
        "* **Identidad**: Nunca cambia una vez creado. Es como la dirección de memoria.\n",
        "* **Tipo**: determina posibles valores y operaciones. Función **type()** devuelve el tipo. No cambia.\n",
        "* **Valor**: que pueden ser *mutables* e *inmutables*.\n",
        "\n",
        "   * Tipos mutables: list, dictionary, set y tipos definidos por el usuario.\n",
        "   * Tipos inmutables: int, float, bool, string y tuple."
      ],
      "metadata": {
        "id": "EV1ygPiqLKMP"
      }
    },
    {
      "cell_type": "code",
      "source": [],
      "metadata": {
        "id": "0vAu3O5NLOw9"
      },
      "execution_count": null,
      "outputs": []
    }
  ]
}